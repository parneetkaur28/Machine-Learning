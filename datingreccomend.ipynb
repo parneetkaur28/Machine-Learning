{
 "cells": [
  {
   "cell_type": "code",
   "execution_count": 1,
   "metadata": {},
   "outputs": [
    {
     "name": "stdout",
     "output_type": "stream",
     "text": [
      "   User ID  Age  Gender    Height  \\\n",
      "0        1   30    Male  5.240385   \n",
      "1        2   27  Female  4.937625   \n",
      "2        3   29  Female  5.806296   \n",
      "3        4   29  Female  5.101402   \n",
      "4        5   32    Male  5.986670   \n",
      "\n",
      "                                           Interests             Looking For  \\\n",
      "0  ['Sports', 'Cooking', 'Hiking', 'Music', 'Movi...           Casual Dating   \n",
      "1                              ['Sports', 'Reading']              Friendship   \n",
      "2                                         ['Sports']           Casual Dating   \n",
      "3                                        ['Reading']                Marriage   \n",
      "4  ['Sports', 'Hiking', 'Music', 'Movies', 'Readi...  Long-term Relationship   \n",
      "\n",
      "  Children    Education Level               Occupation  Swiping History  \\\n",
      "0       No        High School                  Student               96   \n",
      "1      Yes    Master's Degree                   Artist               96   \n",
      "2       No  Bachelor's Degree  Social Media Influencer               64   \n",
      "3       No              Ph.D.                   Doctor               67   \n",
      "4      Yes              Ph.D.                 Engineer               93   \n",
      "\n",
      "  Frequency of Usage  \n",
      "0             Weekly  \n",
      "1            Monthly  \n",
      "2              Daily  \n",
      "3              Daily  \n",
      "4            Monthly  \n"
     ]
    }
   ],
   "source": [
    "import pandas as pd\n",
    "import plotly.express as px\n",
    "\n",
    "data = pd.read_csv(\"dating_app_dataset.csv\")\n",
    "print(data.head())"
   ]
  },
  {
   "cell_type": "code",
   "execution_count": 2,
   "metadata": {},
   "outputs": [
    {
     "data": {
      "application/vnd.plotly.v1+json": {
       "config": {
        "plotlyServerURL": "https://plot.ly"
       },
       "data": [
        {
         "alignmentgroup": "True",
         "bingroup": "x",
         "hovertemplate": "Gender=Male<br>Age=%{x}<br>count=%{y}<extra></extra>",
         "legendgroup": "Male",
         "marker": {
          "color": "#636efa",
          "pattern": {
           "shape": ""
          }
         },
         "name": "Male",
         "nbinsx": 20,
         "offsetgroup": "Male",
         "orientation": "v",
         "showlegend": true,
         "type": "histogram",
         "x": [
          30,
          32,
          21,
          20,
          27,
          29,
          31,
          31,
          22,
          32,
          32,
          30,
          21,
          25,
          19,
          24,
          19,
          35,
          34,
          23,
          30,
          30,
          33,
          35,
          18,
          27,
          35,
          34,
          21,
          33,
          30,
          27,
          31,
          28,
          35,
          23,
          31,
          34,
          23,
          25,
          25,
          24,
          23,
          22,
          31,
          32,
          29,
          21,
          35,
          32,
          31,
          27,
          29,
          24,
          19,
          25,
          25,
          32,
          24,
          26,
          29,
          24,
          32,
          32,
          29,
          26,
          35,
          20,
          32,
          33,
          32,
          24,
          34,
          18,
          25,
          34,
          25,
          21,
          27,
          32,
          30,
          23,
          24,
          22,
          21,
          32,
          31,
          25,
          35,
          30,
          29,
          34,
          26,
          29,
          31,
          31,
          26,
          33,
          29,
          34,
          24,
          28,
          32,
          20,
          32,
          34,
          24,
          33,
          31,
          23,
          20,
          35,
          34,
          28,
          31,
          19,
          31,
          35,
          31,
          27,
          21,
          34,
          21,
          25,
          26,
          29,
          28,
          23,
          33,
          22,
          24,
          21,
          24,
          21,
          29,
          26,
          22,
          22,
          24,
          29,
          20,
          29,
          30,
          21,
          35,
          31,
          19,
          34,
          28,
          27,
          34,
          28,
          23,
          24,
          21,
          26,
          32,
          20,
          21,
          26,
          20,
          30,
          21,
          31,
          26,
          33,
          33,
          19,
          18,
          25,
          19,
          30,
          25,
          34,
          23,
          33,
          19,
          35,
          18,
          25,
          35,
          18,
          33,
          21,
          25,
          26,
          23,
          22,
          34,
          28,
          18,
          33,
          23,
          34,
          19,
          31,
          24,
          18,
          28,
          34,
          30,
          29,
          21,
          33,
          28,
          35,
          29,
          18,
          25,
          18,
          31,
          18,
          30,
          30,
          32,
          23,
          21,
          25,
          27,
          23,
          25,
          27,
          32,
          31,
          35,
          35,
          27,
          33,
          23,
          29,
          29,
          19,
          24,
          34,
          19,
          21,
          34,
          21,
          33,
          29,
          28,
          25,
          35,
          33,
          34,
          18,
          34,
          27,
          33,
          32,
          24
         ],
         "xaxis": "x",
         "yaxis": "y"
        },
        {
         "alignmentgroup": "True",
         "bingroup": "x",
         "hovertemplate": "Gender=Female<br>Age=%{x}<br>count=%{y}<extra></extra>",
         "legendgroup": "Female",
         "marker": {
          "color": "#EF553B",
          "pattern": {
           "shape": ""
          }
         },
         "name": "Female",
         "nbinsx": 20,
         "offsetgroup": "Female",
         "orientation": "v",
         "showlegend": true,
         "type": "histogram",
         "x": [
          27,
          29,
          29,
          25,
          27,
          33,
          26,
          27,
          20,
          33,
          25,
          30,
          24,
          27,
          31,
          24,
          29,
          20,
          19,
          18,
          20,
          26,
          24,
          24,
          31,
          20,
          33,
          26,
          28,
          18,
          28,
          33,
          34,
          30,
          25,
          29,
          32,
          34,
          31,
          22,
          25,
          32,
          25,
          20,
          18,
          25,
          25,
          24,
          34,
          24,
          33,
          21,
          21,
          22,
          22,
          22,
          19,
          30,
          28,
          23,
          22,
          22,
          26,
          22,
          30,
          26,
          25,
          34,
          33,
          25,
          22,
          28,
          27,
          32,
          21,
          25,
          31,
          19,
          33,
          33,
          21,
          29,
          20,
          27,
          28,
          20,
          18,
          18,
          22,
          25,
          26,
          26,
          28,
          30,
          23,
          32,
          27,
          21,
          24,
          30,
          23,
          31,
          28,
          23,
          34,
          34,
          22,
          35,
          19,
          25,
          26,
          22,
          29,
          23,
          25,
          31,
          35,
          33,
          23,
          27,
          20,
          24,
          27,
          21,
          27,
          23,
          23,
          23,
          34,
          25,
          27,
          22,
          32,
          32,
          19,
          34,
          19,
          33,
          18,
          24,
          26,
          24,
          34,
          29,
          22,
          21,
          33,
          34,
          20,
          29,
          30,
          28,
          26,
          35,
          24,
          33,
          32,
          27,
          24,
          19,
          20,
          25,
          31,
          32,
          18,
          19,
          28,
          32,
          34,
          34,
          28,
          31,
          18,
          26,
          29,
          27,
          33,
          19,
          23,
          25,
          32,
          26,
          31,
          35,
          29,
          32,
          26,
          34,
          35,
          23,
          20,
          32,
          31,
          34,
          32,
          30,
          23,
          27,
          33,
          32,
          24,
          29,
          30,
          33,
          27,
          33,
          20,
          20,
          22,
          18,
          27,
          32,
          24,
          20,
          35,
          30,
          27,
          24,
          24,
          35,
          33,
          19,
          18,
          18,
          28,
          23,
          20,
          23,
          33,
          29,
          35,
          26,
          35,
          29,
          20,
          29,
          28,
          18,
          29,
          19,
          35,
          20,
          28,
          32,
          24,
          30,
          32,
          33,
          30
         ],
         "xaxis": "x",
         "yaxis": "y"
        }
       ],
       "layout": {
        "barmode": "relative",
        "legend": {
         "title": {
          "text": "Gender"
         },
         "tracegroupgap": 0
        },
        "template": {
         "data": {
          "bar": [
           {
            "error_x": {
             "color": "#2a3f5f"
            },
            "error_y": {
             "color": "#2a3f5f"
            },
            "marker": {
             "line": {
              "color": "#E5ECF6",
              "width": 0.5
             },
             "pattern": {
              "fillmode": "overlay",
              "size": 10,
              "solidity": 0.2
             }
            },
            "type": "bar"
           }
          ],
          "barpolar": [
           {
            "marker": {
             "line": {
              "color": "#E5ECF6",
              "width": 0.5
             },
             "pattern": {
              "fillmode": "overlay",
              "size": 10,
              "solidity": 0.2
             }
            },
            "type": "barpolar"
           }
          ],
          "carpet": [
           {
            "aaxis": {
             "endlinecolor": "#2a3f5f",
             "gridcolor": "white",
             "linecolor": "white",
             "minorgridcolor": "white",
             "startlinecolor": "#2a3f5f"
            },
            "baxis": {
             "endlinecolor": "#2a3f5f",
             "gridcolor": "white",
             "linecolor": "white",
             "minorgridcolor": "white",
             "startlinecolor": "#2a3f5f"
            },
            "type": "carpet"
           }
          ],
          "choropleth": [
           {
            "colorbar": {
             "outlinewidth": 0,
             "ticks": ""
            },
            "type": "choropleth"
           }
          ],
          "contour": [
           {
            "colorbar": {
             "outlinewidth": 0,
             "ticks": ""
            },
            "colorscale": [
             [
              0,
              "#0d0887"
             ],
             [
              0.1111111111111111,
              "#46039f"
             ],
             [
              0.2222222222222222,
              "#7201a8"
             ],
             [
              0.3333333333333333,
              "#9c179e"
             ],
             [
              0.4444444444444444,
              "#bd3786"
             ],
             [
              0.5555555555555556,
              "#d8576b"
             ],
             [
              0.6666666666666666,
              "#ed7953"
             ],
             [
              0.7777777777777778,
              "#fb9f3a"
             ],
             [
              0.8888888888888888,
              "#fdca26"
             ],
             [
              1,
              "#f0f921"
             ]
            ],
            "type": "contour"
           }
          ],
          "contourcarpet": [
           {
            "colorbar": {
             "outlinewidth": 0,
             "ticks": ""
            },
            "type": "contourcarpet"
           }
          ],
          "heatmap": [
           {
            "colorbar": {
             "outlinewidth": 0,
             "ticks": ""
            },
            "colorscale": [
             [
              0,
              "#0d0887"
             ],
             [
              0.1111111111111111,
              "#46039f"
             ],
             [
              0.2222222222222222,
              "#7201a8"
             ],
             [
              0.3333333333333333,
              "#9c179e"
             ],
             [
              0.4444444444444444,
              "#bd3786"
             ],
             [
              0.5555555555555556,
              "#d8576b"
             ],
             [
              0.6666666666666666,
              "#ed7953"
             ],
             [
              0.7777777777777778,
              "#fb9f3a"
             ],
             [
              0.8888888888888888,
              "#fdca26"
             ],
             [
              1,
              "#f0f921"
             ]
            ],
            "type": "heatmap"
           }
          ],
          "heatmapgl": [
           {
            "colorbar": {
             "outlinewidth": 0,
             "ticks": ""
            },
            "colorscale": [
             [
              0,
              "#0d0887"
             ],
             [
              0.1111111111111111,
              "#46039f"
             ],
             [
              0.2222222222222222,
              "#7201a8"
             ],
             [
              0.3333333333333333,
              "#9c179e"
             ],
             [
              0.4444444444444444,
              "#bd3786"
             ],
             [
              0.5555555555555556,
              "#d8576b"
             ],
             [
              0.6666666666666666,
              "#ed7953"
             ],
             [
              0.7777777777777778,
              "#fb9f3a"
             ],
             [
              0.8888888888888888,
              "#fdca26"
             ],
             [
              1,
              "#f0f921"
             ]
            ],
            "type": "heatmapgl"
           }
          ],
          "histogram": [
           {
            "marker": {
             "pattern": {
              "fillmode": "overlay",
              "size": 10,
              "solidity": 0.2
             }
            },
            "type": "histogram"
           }
          ],
          "histogram2d": [
           {
            "colorbar": {
             "outlinewidth": 0,
             "ticks": ""
            },
            "colorscale": [
             [
              0,
              "#0d0887"
             ],
             [
              0.1111111111111111,
              "#46039f"
             ],
             [
              0.2222222222222222,
              "#7201a8"
             ],
             [
              0.3333333333333333,
              "#9c179e"
             ],
             [
              0.4444444444444444,
              "#bd3786"
             ],
             [
              0.5555555555555556,
              "#d8576b"
             ],
             [
              0.6666666666666666,
              "#ed7953"
             ],
             [
              0.7777777777777778,
              "#fb9f3a"
             ],
             [
              0.8888888888888888,
              "#fdca26"
             ],
             [
              1,
              "#f0f921"
             ]
            ],
            "type": "histogram2d"
           }
          ],
          "histogram2dcontour": [
           {
            "colorbar": {
             "outlinewidth": 0,
             "ticks": ""
            },
            "colorscale": [
             [
              0,
              "#0d0887"
             ],
             [
              0.1111111111111111,
              "#46039f"
             ],
             [
              0.2222222222222222,
              "#7201a8"
             ],
             [
              0.3333333333333333,
              "#9c179e"
             ],
             [
              0.4444444444444444,
              "#bd3786"
             ],
             [
              0.5555555555555556,
              "#d8576b"
             ],
             [
              0.6666666666666666,
              "#ed7953"
             ],
             [
              0.7777777777777778,
              "#fb9f3a"
             ],
             [
              0.8888888888888888,
              "#fdca26"
             ],
             [
              1,
              "#f0f921"
             ]
            ],
            "type": "histogram2dcontour"
           }
          ],
          "mesh3d": [
           {
            "colorbar": {
             "outlinewidth": 0,
             "ticks": ""
            },
            "type": "mesh3d"
           }
          ],
          "parcoords": [
           {
            "line": {
             "colorbar": {
              "outlinewidth": 0,
              "ticks": ""
             }
            },
            "type": "parcoords"
           }
          ],
          "pie": [
           {
            "automargin": true,
            "type": "pie"
           }
          ],
          "scatter": [
           {
            "fillpattern": {
             "fillmode": "overlay",
             "size": 10,
             "solidity": 0.2
            },
            "type": "scatter"
           }
          ],
          "scatter3d": [
           {
            "line": {
             "colorbar": {
              "outlinewidth": 0,
              "ticks": ""
             }
            },
            "marker": {
             "colorbar": {
              "outlinewidth": 0,
              "ticks": ""
             }
            },
            "type": "scatter3d"
           }
          ],
          "scattercarpet": [
           {
            "marker": {
             "colorbar": {
              "outlinewidth": 0,
              "ticks": ""
             }
            },
            "type": "scattercarpet"
           }
          ],
          "scattergeo": [
           {
            "marker": {
             "colorbar": {
              "outlinewidth": 0,
              "ticks": ""
             }
            },
            "type": "scattergeo"
           }
          ],
          "scattergl": [
           {
            "marker": {
             "colorbar": {
              "outlinewidth": 0,
              "ticks": ""
             }
            },
            "type": "scattergl"
           }
          ],
          "scattermapbox": [
           {
            "marker": {
             "colorbar": {
              "outlinewidth": 0,
              "ticks": ""
             }
            },
            "type": "scattermapbox"
           }
          ],
          "scatterpolar": [
           {
            "marker": {
             "colorbar": {
              "outlinewidth": 0,
              "ticks": ""
             }
            },
            "type": "scatterpolar"
           }
          ],
          "scatterpolargl": [
           {
            "marker": {
             "colorbar": {
              "outlinewidth": 0,
              "ticks": ""
             }
            },
            "type": "scatterpolargl"
           }
          ],
          "scatterternary": [
           {
            "marker": {
             "colorbar": {
              "outlinewidth": 0,
              "ticks": ""
             }
            },
            "type": "scatterternary"
           }
          ],
          "surface": [
           {
            "colorbar": {
             "outlinewidth": 0,
             "ticks": ""
            },
            "colorscale": [
             [
              0,
              "#0d0887"
             ],
             [
              0.1111111111111111,
              "#46039f"
             ],
             [
              0.2222222222222222,
              "#7201a8"
             ],
             [
              0.3333333333333333,
              "#9c179e"
             ],
             [
              0.4444444444444444,
              "#bd3786"
             ],
             [
              0.5555555555555556,
              "#d8576b"
             ],
             [
              0.6666666666666666,
              "#ed7953"
             ],
             [
              0.7777777777777778,
              "#fb9f3a"
             ],
             [
              0.8888888888888888,
              "#fdca26"
             ],
             [
              1,
              "#f0f921"
             ]
            ],
            "type": "surface"
           }
          ],
          "table": [
           {
            "cells": {
             "fill": {
              "color": "#EBF0F8"
             },
             "line": {
              "color": "white"
             }
            },
            "header": {
             "fill": {
              "color": "#C8D4E3"
             },
             "line": {
              "color": "white"
             }
            },
            "type": "table"
           }
          ]
         },
         "layout": {
          "annotationdefaults": {
           "arrowcolor": "#2a3f5f",
           "arrowhead": 0,
           "arrowwidth": 1
          },
          "autotypenumbers": "strict",
          "coloraxis": {
           "colorbar": {
            "outlinewidth": 0,
            "ticks": ""
           }
          },
          "colorscale": {
           "diverging": [
            [
             0,
             "#8e0152"
            ],
            [
             0.1,
             "#c51b7d"
            ],
            [
             0.2,
             "#de77ae"
            ],
            [
             0.3,
             "#f1b6da"
            ],
            [
             0.4,
             "#fde0ef"
            ],
            [
             0.5,
             "#f7f7f7"
            ],
            [
             0.6,
             "#e6f5d0"
            ],
            [
             0.7,
             "#b8e186"
            ],
            [
             0.8,
             "#7fbc41"
            ],
            [
             0.9,
             "#4d9221"
            ],
            [
             1,
             "#276419"
            ]
           ],
           "sequential": [
            [
             0,
             "#0d0887"
            ],
            [
             0.1111111111111111,
             "#46039f"
            ],
            [
             0.2222222222222222,
             "#7201a8"
            ],
            [
             0.3333333333333333,
             "#9c179e"
            ],
            [
             0.4444444444444444,
             "#bd3786"
            ],
            [
             0.5555555555555556,
             "#d8576b"
            ],
            [
             0.6666666666666666,
             "#ed7953"
            ],
            [
             0.7777777777777778,
             "#fb9f3a"
            ],
            [
             0.8888888888888888,
             "#fdca26"
            ],
            [
             1,
             "#f0f921"
            ]
           ],
           "sequentialminus": [
            [
             0,
             "#0d0887"
            ],
            [
             0.1111111111111111,
             "#46039f"
            ],
            [
             0.2222222222222222,
             "#7201a8"
            ],
            [
             0.3333333333333333,
             "#9c179e"
            ],
            [
             0.4444444444444444,
             "#bd3786"
            ],
            [
             0.5555555555555556,
             "#d8576b"
            ],
            [
             0.6666666666666666,
             "#ed7953"
            ],
            [
             0.7777777777777778,
             "#fb9f3a"
            ],
            [
             0.8888888888888888,
             "#fdca26"
            ],
            [
             1,
             "#f0f921"
            ]
           ]
          },
          "colorway": [
           "#636efa",
           "#EF553B",
           "#00cc96",
           "#ab63fa",
           "#FFA15A",
           "#19d3f3",
           "#FF6692",
           "#B6E880",
           "#FF97FF",
           "#FECB52"
          ],
          "font": {
           "color": "#2a3f5f"
          },
          "geo": {
           "bgcolor": "white",
           "lakecolor": "white",
           "landcolor": "#E5ECF6",
           "showlakes": true,
           "showland": true,
           "subunitcolor": "white"
          },
          "hoverlabel": {
           "align": "left"
          },
          "hovermode": "closest",
          "mapbox": {
           "style": "light"
          },
          "paper_bgcolor": "white",
          "plot_bgcolor": "#E5ECF6",
          "polar": {
           "angularaxis": {
            "gridcolor": "white",
            "linecolor": "white",
            "ticks": ""
           },
           "bgcolor": "#E5ECF6",
           "radialaxis": {
            "gridcolor": "white",
            "linecolor": "white",
            "ticks": ""
           }
          },
          "scene": {
           "xaxis": {
            "backgroundcolor": "#E5ECF6",
            "gridcolor": "white",
            "gridwidth": 2,
            "linecolor": "white",
            "showbackground": true,
            "ticks": "",
            "zerolinecolor": "white"
           },
           "yaxis": {
            "backgroundcolor": "#E5ECF6",
            "gridcolor": "white",
            "gridwidth": 2,
            "linecolor": "white",
            "showbackground": true,
            "ticks": "",
            "zerolinecolor": "white"
           },
           "zaxis": {
            "backgroundcolor": "#E5ECF6",
            "gridcolor": "white",
            "gridwidth": 2,
            "linecolor": "white",
            "showbackground": true,
            "ticks": "",
            "zerolinecolor": "white"
           }
          },
          "shapedefaults": {
           "line": {
            "color": "#2a3f5f"
           }
          },
          "ternary": {
           "aaxis": {
            "gridcolor": "white",
            "linecolor": "white",
            "ticks": ""
           },
           "baxis": {
            "gridcolor": "white",
            "linecolor": "white",
            "ticks": ""
           },
           "bgcolor": "#E5ECF6",
           "caxis": {
            "gridcolor": "white",
            "linecolor": "white",
            "ticks": ""
           }
          },
          "title": {
           "x": 0.05
          },
          "xaxis": {
           "automargin": true,
           "gridcolor": "white",
           "linecolor": "white",
           "ticks": "",
           "title": {
            "standoff": 15
           },
           "zerolinecolor": "white",
           "zerolinewidth": 2
          },
          "yaxis": {
           "automargin": true,
           "gridcolor": "white",
           "linecolor": "white",
           "ticks": "",
           "title": {
            "standoff": 15
           },
           "zerolinecolor": "white",
           "zerolinewidth": 2
          }
         }
        },
        "title": {
         "text": "Age Distribution by Gender"
        },
        "xaxis": {
         "anchor": "y",
         "domain": [
          0,
          1
         ],
         "title": {
          "text": "Age"
         }
        },
        "yaxis": {
         "anchor": "x",
         "domain": [
          0,
          1
         ],
         "title": {
          "text": "Count"
         }
        }
       }
      }
     },
     "metadata": {},
     "output_type": "display_data"
    }
   ],
   "source": [
    "# age distribution by gender\n",
    "fig = px.histogram(data, x=\"Age\", color=\"Gender\", nbins=20, \n",
    "                   title=\"Age Distribution by Gender\")\n",
    "fig.update_layout(xaxis_title=\"Age\", yaxis_title=\"Count\")\n",
    "fig.show()"
   ]
  },
  {
   "cell_type": "code",
   "execution_count": 3,
   "metadata": {},
   "outputs": [
    {
     "data": {
      "application/vnd.plotly.v1+json": {
       "config": {
        "plotlyServerURL": "https://plot.ly"
       },
       "data": [
        {
         "alignmentgroup": "True",
         "hovertemplate": "Gender=Male<br>Education Level=%{x}<br>count=%{y}<extra></extra>",
         "legendgroup": "Male",
         "marker": {
          "color": "#636efa",
          "pattern": {
           "shape": ""
          }
         },
         "name": "Male",
         "offsetgroup": "Male",
         "orientation": "v",
         "showlegend": true,
         "textposition": "auto",
         "type": "bar",
         "x": [
          "High School",
          "Ph.D.",
          "Bachelor's Degree",
          "Bachelor's Degree",
          "Bachelor's Degree",
          "Master's Degree",
          "Master's Degree",
          "Bachelor's Degree",
          "Bachelor's Degree",
          "Master's Degree",
          "Bachelor's Degree",
          "Ph.D.",
          "Ph.D.",
          "Ph.D.",
          "Ph.D.",
          "Master's Degree",
          "High School",
          "Bachelor's Degree",
          "Master's Degree",
          "High School",
          "High School",
          "High School",
          "Bachelor's Degree",
          "High School",
          "Ph.D.",
          "Master's Degree",
          "High School",
          "Master's Degree",
          "Ph.D.",
          "Bachelor's Degree",
          "Ph.D.",
          "Master's Degree",
          "Master's Degree",
          "Bachelor's Degree",
          "High School",
          "Master's Degree",
          "Bachelor's Degree",
          "Master's Degree",
          "Ph.D.",
          "Bachelor's Degree",
          "Ph.D.",
          "Master's Degree",
          "High School",
          "Ph.D.",
          "Bachelor's Degree",
          "High School",
          "Master's Degree",
          "Ph.D.",
          "Master's Degree",
          "Master's Degree",
          "High School",
          "Master's Degree",
          "High School",
          "High School",
          "High School",
          "Ph.D.",
          "Ph.D.",
          "Master's Degree",
          "High School",
          "Ph.D.",
          "Bachelor's Degree",
          "Ph.D.",
          "Master's Degree",
          "Ph.D.",
          "Bachelor's Degree",
          "Ph.D.",
          "Master's Degree",
          "Bachelor's Degree",
          "Ph.D.",
          "Bachelor's Degree",
          "Bachelor's Degree",
          "Master's Degree",
          "Bachelor's Degree",
          "Master's Degree",
          "Bachelor's Degree",
          "Master's Degree",
          "Bachelor's Degree",
          "High School",
          "Master's Degree",
          "Master's Degree",
          "High School",
          "Ph.D.",
          "Ph.D.",
          "Bachelor's Degree",
          "Master's Degree",
          "High School",
          "Bachelor's Degree",
          "Ph.D.",
          "Bachelor's Degree",
          "Ph.D.",
          "Ph.D.",
          "Master's Degree",
          "Master's Degree",
          "Ph.D.",
          "High School",
          "Master's Degree",
          "Master's Degree",
          "Bachelor's Degree",
          "Master's Degree",
          "Master's Degree",
          "Master's Degree",
          "Bachelor's Degree",
          "Bachelor's Degree",
          "Ph.D.",
          "High School",
          "Bachelor's Degree",
          "Ph.D.",
          "Ph.D.",
          "Bachelor's Degree",
          "Bachelor's Degree",
          "Bachelor's Degree",
          "High School",
          "Master's Degree",
          "Ph.D.",
          "Bachelor's Degree",
          "High School",
          "Bachelor's Degree",
          "Master's Degree",
          "High School",
          "High School",
          "Bachelor's Degree",
          "Master's Degree",
          "Bachelor's Degree",
          "Bachelor's Degree",
          "Ph.D.",
          "Bachelor's Degree",
          "High School",
          "Master's Degree",
          "Bachelor's Degree",
          "Master's Degree",
          "Bachelor's Degree",
          "Ph.D.",
          "Ph.D.",
          "Master's Degree",
          "Bachelor's Degree",
          "Bachelor's Degree",
          "Ph.D.",
          "Ph.D.",
          "Master's Degree",
          "Bachelor's Degree",
          "Bachelor's Degree",
          "High School",
          "Bachelor's Degree",
          "High School",
          "Ph.D.",
          "Master's Degree",
          "Master's Degree",
          "Bachelor's Degree",
          "Ph.D.",
          "Ph.D.",
          "High School",
          "High School",
          "Bachelor's Degree",
          "Master's Degree",
          "Master's Degree",
          "Master's Degree",
          "Bachelor's Degree",
          "Master's Degree",
          "Master's Degree",
          "Bachelor's Degree",
          "Master's Degree",
          "Bachelor's Degree",
          "Bachelor's Degree",
          "Bachelor's Degree",
          "Master's Degree",
          "High School",
          "Ph.D.",
          "Bachelor's Degree",
          "Ph.D.",
          "High School",
          "Bachelor's Degree",
          "High School",
          "High School",
          "Master's Degree",
          "Ph.D.",
          "High School",
          "Bachelor's Degree",
          "High School",
          "Master's Degree",
          "High School",
          "Bachelor's Degree",
          "Bachelor's Degree",
          "Master's Degree",
          "Ph.D.",
          "High School",
          "Master's Degree",
          "Ph.D.",
          "High School",
          "Bachelor's Degree",
          "High School",
          "Master's Degree",
          "Master's Degree",
          "Master's Degree",
          "Bachelor's Degree",
          "High School",
          "High School",
          "Ph.D.",
          "Master's Degree",
          "Master's Degree",
          "Master's Degree",
          "Bachelor's Degree",
          "High School",
          "Bachelor's Degree",
          "High School",
          "Bachelor's Degree",
          "Ph.D.",
          "Bachelor's Degree",
          "Bachelor's Degree",
          "Master's Degree",
          "High School",
          "Master's Degree",
          "Ph.D.",
          "Bachelor's Degree",
          "High School",
          "Bachelor's Degree",
          "Master's Degree",
          "Bachelor's Degree",
          "High School",
          "Bachelor's Degree",
          "Bachelor's Degree",
          "High School",
          "Ph.D.",
          "High School",
          "Bachelor's Degree",
          "High School",
          "High School",
          "High School",
          "Bachelor's Degree",
          "Ph.D.",
          "Bachelor's Degree",
          "Ph.D.",
          "Master's Degree",
          "Ph.D.",
          "Ph.D.",
          "High School",
          "Bachelor's Degree",
          "Ph.D.",
          "Master's Degree",
          "Master's Degree",
          "Master's Degree",
          "Bachelor's Degree",
          "Ph.D.",
          "High School",
          "Bachelor's Degree",
          "Ph.D.",
          "Master's Degree",
          "Bachelor's Degree",
          "Bachelor's Degree",
          "Bachelor's Degree",
          "High School",
          "Ph.D."
         ],
         "xaxis": "x",
         "y": [
          1,
          1,
          1,
          1,
          1,
          1,
          1,
          1,
          1,
          1,
          1,
          1,
          1,
          1,
          1,
          1,
          1,
          1,
          1,
          1,
          1,
          1,
          1,
          1,
          1,
          1,
          1,
          1,
          1,
          1,
          1,
          1,
          1,
          1,
          1,
          1,
          1,
          1,
          1,
          1,
          1,
          1,
          1,
          1,
          1,
          1,
          1,
          1,
          1,
          1,
          1,
          1,
          1,
          1,
          1,
          1,
          1,
          1,
          1,
          1,
          1,
          1,
          1,
          1,
          1,
          1,
          1,
          1,
          1,
          1,
          1,
          1,
          1,
          1,
          1,
          1,
          1,
          1,
          1,
          1,
          1,
          1,
          1,
          1,
          1,
          1,
          1,
          1,
          1,
          1,
          1,
          1,
          1,
          1,
          1,
          1,
          1,
          1,
          1,
          1,
          1,
          1,
          1,
          1,
          1,
          1,
          1,
          1,
          1,
          1,
          1,
          1,
          1,
          1,
          1,
          1,
          1,
          1,
          1,
          1,
          1,
          1,
          1,
          1,
          1,
          1,
          1,
          1,
          1,
          1,
          1,
          1,
          1,
          1,
          1,
          1,
          1,
          1,
          1,
          1,
          1,
          1,
          1,
          1,
          1,
          1,
          1,
          1,
          1,
          1,
          1,
          1,
          1,
          1,
          1,
          1,
          1,
          1,
          1,
          1,
          1,
          1,
          1,
          1,
          1,
          1,
          1,
          1,
          1,
          1,
          1,
          1,
          1,
          1,
          1,
          1,
          1,
          1,
          1,
          1,
          1,
          1,
          1,
          1,
          1,
          1,
          1,
          1,
          1,
          1,
          1,
          1,
          1,
          1,
          1,
          1,
          1,
          1,
          1,
          1,
          1,
          1,
          1,
          1,
          1,
          1,
          1,
          1,
          1,
          1,
          1,
          1,
          1,
          1,
          1,
          1,
          1,
          1,
          1,
          1,
          1,
          1,
          1,
          1,
          1,
          1,
          1,
          1,
          1,
          1,
          1,
          1,
          1,
          1,
          1,
          1,
          1,
          1,
          1,
          1,
          1,
          1,
          1,
          1,
          1,
          1,
          1,
          1,
          1,
          1,
          1
         ],
         "yaxis": "y"
        },
        {
         "alignmentgroup": "True",
         "hovertemplate": "Gender=Female<br>Education Level=%{x}<br>count=%{y}<extra></extra>",
         "legendgroup": "Female",
         "marker": {
          "color": "#EF553B",
          "pattern": {
           "shape": ""
          }
         },
         "name": "Female",
         "offsetgroup": "Female",
         "orientation": "v",
         "showlegend": true,
         "textposition": "auto",
         "type": "bar",
         "x": [
          "Master's Degree",
          "Bachelor's Degree",
          "Ph.D.",
          "Master's Degree",
          "Master's Degree",
          "High School",
          "Ph.D.",
          "Master's Degree",
          "Ph.D.",
          "Bachelor's Degree",
          "High School",
          "Bachelor's Degree",
          "Ph.D.",
          "Master's Degree",
          "Bachelor's Degree",
          "Master's Degree",
          "High School",
          "High School",
          "Ph.D.",
          "Ph.D.",
          "Master's Degree",
          "Bachelor's Degree",
          "Ph.D.",
          "Bachelor's Degree",
          "High School",
          "Bachelor's Degree",
          "High School",
          "Bachelor's Degree",
          "High School",
          "Master's Degree",
          "High School",
          "Ph.D.",
          "Ph.D.",
          "High School",
          "Ph.D.",
          "Ph.D.",
          "Bachelor's Degree",
          "Master's Degree",
          "Bachelor's Degree",
          "High School",
          "Bachelor's Degree",
          "Master's Degree",
          "Ph.D.",
          "Ph.D.",
          "Bachelor's Degree",
          "Bachelor's Degree",
          "Ph.D.",
          "High School",
          "Bachelor's Degree",
          "Ph.D.",
          "Bachelor's Degree",
          "Ph.D.",
          "High School",
          "Ph.D.",
          "Master's Degree",
          "High School",
          "Bachelor's Degree",
          "Ph.D.",
          "Bachelor's Degree",
          "Master's Degree",
          "Master's Degree",
          "Bachelor's Degree",
          "Master's Degree",
          "High School",
          "Bachelor's Degree",
          "Ph.D.",
          "Ph.D.",
          "Bachelor's Degree",
          "High School",
          "Master's Degree",
          "Master's Degree",
          "Bachelor's Degree",
          "Ph.D.",
          "Master's Degree",
          "Master's Degree",
          "High School",
          "Ph.D.",
          "Master's Degree",
          "High School",
          "High School",
          "High School",
          "Bachelor's Degree",
          "High School",
          "Bachelor's Degree",
          "Master's Degree",
          "High School",
          "Ph.D.",
          "Master's Degree",
          "Master's Degree",
          "Bachelor's Degree",
          "Master's Degree",
          "High School",
          "High School",
          "High School",
          "High School",
          "High School",
          "Bachelor's Degree",
          "Ph.D.",
          "Bachelor's Degree",
          "Master's Degree",
          "Bachelor's Degree",
          "High School",
          "Bachelor's Degree",
          "Ph.D.",
          "Ph.D.",
          "Master's Degree",
          "Master's Degree",
          "High School",
          "Master's Degree",
          "Bachelor's Degree",
          "High School",
          "Master's Degree",
          "Bachelor's Degree",
          "Ph.D.",
          "Bachelor's Degree",
          "Ph.D.",
          "Ph.D.",
          "High School",
          "Master's Degree",
          "Bachelor's Degree",
          "Master's Degree",
          "Ph.D.",
          "Bachelor's Degree",
          "High School",
          "High School",
          "Bachelor's Degree",
          "High School",
          "Ph.D.",
          "Ph.D.",
          "High School",
          "Ph.D.",
          "Bachelor's Degree",
          "Bachelor's Degree",
          "Bachelor's Degree",
          "Ph.D.",
          "Bachelor's Degree",
          "High School",
          "Bachelor's Degree",
          "Master's Degree",
          "Master's Degree",
          "Bachelor's Degree",
          "Ph.D.",
          "Ph.D.",
          "Ph.D.",
          "Ph.D.",
          "High School",
          "Bachelor's Degree",
          "High School",
          "Master's Degree",
          "High School",
          "High School",
          "Master's Degree",
          "High School",
          "Bachelor's Degree",
          "Master's Degree",
          "High School",
          "Master's Degree",
          "Master's Degree",
          "High School",
          "Ph.D.",
          "Master's Degree",
          "High School",
          "Ph.D.",
          "Bachelor's Degree",
          "Ph.D.",
          "Ph.D.",
          "High School",
          "Bachelor's Degree",
          "Ph.D.",
          "Ph.D.",
          "Master's Degree",
          "Ph.D.",
          "Ph.D.",
          "Ph.D.",
          "High School",
          "Master's Degree",
          "Ph.D.",
          "Bachelor's Degree",
          "Bachelor's Degree",
          "High School",
          "Bachelor's Degree",
          "High School",
          "High School",
          "Ph.D.",
          "Master's Degree",
          "Bachelor's Degree",
          "Ph.D.",
          "Bachelor's Degree",
          "Master's Degree",
          "Bachelor's Degree",
          "Ph.D.",
          "Master's Degree",
          "Master's Degree",
          "Ph.D.",
          "Ph.D.",
          "High School",
          "High School",
          "Bachelor's Degree",
          "Master's Degree",
          "Master's Degree",
          "High School",
          "High School",
          "Bachelor's Degree",
          "Master's Degree",
          "Bachelor's Degree",
          "High School",
          "Bachelor's Degree",
          "High School",
          "Bachelor's Degree",
          "Bachelor's Degree",
          "High School",
          "High School",
          "High School",
          "Bachelor's Degree",
          "High School",
          "Bachelor's Degree",
          "Ph.D.",
          "Master's Degree",
          "Master's Degree",
          "Bachelor's Degree",
          "Bachelor's Degree",
          "Ph.D.",
          "Master's Degree",
          "Bachelor's Degree",
          "High School",
          "Ph.D.",
          "High School",
          "Bachelor's Degree",
          "High School",
          "High School",
          "Master's Degree",
          "Ph.D.",
          "High School",
          "Master's Degree",
          "High School",
          "Bachelor's Degree",
          "High School",
          "Ph.D.",
          "Master's Degree",
          "Master's Degree",
          "Bachelor's Degree",
          "High School",
          "Master's Degree",
          "Ph.D.",
          "Bachelor's Degree",
          "Bachelor's Degree",
          "Master's Degree",
          "High School",
          "High School"
         ],
         "xaxis": "x",
         "y": [
          1,
          1,
          1,
          1,
          1,
          1,
          1,
          1,
          1,
          1,
          1,
          1,
          1,
          1,
          1,
          1,
          1,
          1,
          1,
          1,
          1,
          1,
          1,
          1,
          1,
          1,
          1,
          1,
          1,
          1,
          1,
          1,
          1,
          1,
          1,
          1,
          1,
          1,
          1,
          1,
          1,
          1,
          1,
          1,
          1,
          1,
          1,
          1,
          1,
          1,
          1,
          1,
          1,
          1,
          1,
          1,
          1,
          1,
          1,
          1,
          1,
          1,
          1,
          1,
          1,
          1,
          1,
          1,
          1,
          1,
          1,
          1,
          1,
          1,
          1,
          1,
          1,
          1,
          1,
          1,
          1,
          1,
          1,
          1,
          1,
          1,
          1,
          1,
          1,
          1,
          1,
          1,
          1,
          1,
          1,
          1,
          1,
          1,
          1,
          1,
          1,
          1,
          1,
          1,
          1,
          1,
          1,
          1,
          1,
          1,
          1,
          1,
          1,
          1,
          1,
          1,
          1,
          1,
          1,
          1,
          1,
          1,
          1,
          1,
          1,
          1,
          1,
          1,
          1,
          1,
          1,
          1,
          1,
          1,
          1,
          1,
          1,
          1,
          1,
          1,
          1,
          1,
          1,
          1,
          1,
          1,
          1,
          1,
          1,
          1,
          1,
          1,
          1,
          1,
          1,
          1,
          1,
          1,
          1,
          1,
          1,
          1,
          1,
          1,
          1,
          1,
          1,
          1,
          1,
          1,
          1,
          1,
          1,
          1,
          1,
          1,
          1,
          1,
          1,
          1,
          1,
          1,
          1,
          1,
          1,
          1,
          1,
          1,
          1,
          1,
          1,
          1,
          1,
          1,
          1,
          1,
          1,
          1,
          1,
          1,
          1,
          1,
          1,
          1,
          1,
          1,
          1,
          1,
          1,
          1,
          1,
          1,
          1,
          1,
          1,
          1,
          1,
          1,
          1,
          1,
          1,
          1,
          1,
          1,
          1,
          1,
          1,
          1,
          1,
          1,
          1,
          1,
          1,
          1,
          1,
          1,
          1,
          1,
          1,
          1,
          1,
          1,
          1,
          1,
          1,
          1,
          1,
          1,
          1
         ],
         "yaxis": "y"
        }
       ],
       "layout": {
        "barmode": "relative",
        "legend": {
         "title": {
          "text": "Gender"
         },
         "tracegroupgap": 0
        },
        "template": {
         "data": {
          "bar": [
           {
            "error_x": {
             "color": "#2a3f5f"
            },
            "error_y": {
             "color": "#2a3f5f"
            },
            "marker": {
             "line": {
              "color": "#E5ECF6",
              "width": 0.5
             },
             "pattern": {
              "fillmode": "overlay",
              "size": 10,
              "solidity": 0.2
             }
            },
            "type": "bar"
           }
          ],
          "barpolar": [
           {
            "marker": {
             "line": {
              "color": "#E5ECF6",
              "width": 0.5
             },
             "pattern": {
              "fillmode": "overlay",
              "size": 10,
              "solidity": 0.2
             }
            },
            "type": "barpolar"
           }
          ],
          "carpet": [
           {
            "aaxis": {
             "endlinecolor": "#2a3f5f",
             "gridcolor": "white",
             "linecolor": "white",
             "minorgridcolor": "white",
             "startlinecolor": "#2a3f5f"
            },
            "baxis": {
             "endlinecolor": "#2a3f5f",
             "gridcolor": "white",
             "linecolor": "white",
             "minorgridcolor": "white",
             "startlinecolor": "#2a3f5f"
            },
            "type": "carpet"
           }
          ],
          "choropleth": [
           {
            "colorbar": {
             "outlinewidth": 0,
             "ticks": ""
            },
            "type": "choropleth"
           }
          ],
          "contour": [
           {
            "colorbar": {
             "outlinewidth": 0,
             "ticks": ""
            },
            "colorscale": [
             [
              0,
              "#0d0887"
             ],
             [
              0.1111111111111111,
              "#46039f"
             ],
             [
              0.2222222222222222,
              "#7201a8"
             ],
             [
              0.3333333333333333,
              "#9c179e"
             ],
             [
              0.4444444444444444,
              "#bd3786"
             ],
             [
              0.5555555555555556,
              "#d8576b"
             ],
             [
              0.6666666666666666,
              "#ed7953"
             ],
             [
              0.7777777777777778,
              "#fb9f3a"
             ],
             [
              0.8888888888888888,
              "#fdca26"
             ],
             [
              1,
              "#f0f921"
             ]
            ],
            "type": "contour"
           }
          ],
          "contourcarpet": [
           {
            "colorbar": {
             "outlinewidth": 0,
             "ticks": ""
            },
            "type": "contourcarpet"
           }
          ],
          "heatmap": [
           {
            "colorbar": {
             "outlinewidth": 0,
             "ticks": ""
            },
            "colorscale": [
             [
              0,
              "#0d0887"
             ],
             [
              0.1111111111111111,
              "#46039f"
             ],
             [
              0.2222222222222222,
              "#7201a8"
             ],
             [
              0.3333333333333333,
              "#9c179e"
             ],
             [
              0.4444444444444444,
              "#bd3786"
             ],
             [
              0.5555555555555556,
              "#d8576b"
             ],
             [
              0.6666666666666666,
              "#ed7953"
             ],
             [
              0.7777777777777778,
              "#fb9f3a"
             ],
             [
              0.8888888888888888,
              "#fdca26"
             ],
             [
              1,
              "#f0f921"
             ]
            ],
            "type": "heatmap"
           }
          ],
          "heatmapgl": [
           {
            "colorbar": {
             "outlinewidth": 0,
             "ticks": ""
            },
            "colorscale": [
             [
              0,
              "#0d0887"
             ],
             [
              0.1111111111111111,
              "#46039f"
             ],
             [
              0.2222222222222222,
              "#7201a8"
             ],
             [
              0.3333333333333333,
              "#9c179e"
             ],
             [
              0.4444444444444444,
              "#bd3786"
             ],
             [
              0.5555555555555556,
              "#d8576b"
             ],
             [
              0.6666666666666666,
              "#ed7953"
             ],
             [
              0.7777777777777778,
              "#fb9f3a"
             ],
             [
              0.8888888888888888,
              "#fdca26"
             ],
             [
              1,
              "#f0f921"
             ]
            ],
            "type": "heatmapgl"
           }
          ],
          "histogram": [
           {
            "marker": {
             "pattern": {
              "fillmode": "overlay",
              "size": 10,
              "solidity": 0.2
             }
            },
            "type": "histogram"
           }
          ],
          "histogram2d": [
           {
            "colorbar": {
             "outlinewidth": 0,
             "ticks": ""
            },
            "colorscale": [
             [
              0,
              "#0d0887"
             ],
             [
              0.1111111111111111,
              "#46039f"
             ],
             [
              0.2222222222222222,
              "#7201a8"
             ],
             [
              0.3333333333333333,
              "#9c179e"
             ],
             [
              0.4444444444444444,
              "#bd3786"
             ],
             [
              0.5555555555555556,
              "#d8576b"
             ],
             [
              0.6666666666666666,
              "#ed7953"
             ],
             [
              0.7777777777777778,
              "#fb9f3a"
             ],
             [
              0.8888888888888888,
              "#fdca26"
             ],
             [
              1,
              "#f0f921"
             ]
            ],
            "type": "histogram2d"
           }
          ],
          "histogram2dcontour": [
           {
            "colorbar": {
             "outlinewidth": 0,
             "ticks": ""
            },
            "colorscale": [
             [
              0,
              "#0d0887"
             ],
             [
              0.1111111111111111,
              "#46039f"
             ],
             [
              0.2222222222222222,
              "#7201a8"
             ],
             [
              0.3333333333333333,
              "#9c179e"
             ],
             [
              0.4444444444444444,
              "#bd3786"
             ],
             [
              0.5555555555555556,
              "#d8576b"
             ],
             [
              0.6666666666666666,
              "#ed7953"
             ],
             [
              0.7777777777777778,
              "#fb9f3a"
             ],
             [
              0.8888888888888888,
              "#fdca26"
             ],
             [
              1,
              "#f0f921"
             ]
            ],
            "type": "histogram2dcontour"
           }
          ],
          "mesh3d": [
           {
            "colorbar": {
             "outlinewidth": 0,
             "ticks": ""
            },
            "type": "mesh3d"
           }
          ],
          "parcoords": [
           {
            "line": {
             "colorbar": {
              "outlinewidth": 0,
              "ticks": ""
             }
            },
            "type": "parcoords"
           }
          ],
          "pie": [
           {
            "automargin": true,
            "type": "pie"
           }
          ],
          "scatter": [
           {
            "fillpattern": {
             "fillmode": "overlay",
             "size": 10,
             "solidity": 0.2
            },
            "type": "scatter"
           }
          ],
          "scatter3d": [
           {
            "line": {
             "colorbar": {
              "outlinewidth": 0,
              "ticks": ""
             }
            },
            "marker": {
             "colorbar": {
              "outlinewidth": 0,
              "ticks": ""
             }
            },
            "type": "scatter3d"
           }
          ],
          "scattercarpet": [
           {
            "marker": {
             "colorbar": {
              "outlinewidth": 0,
              "ticks": ""
             }
            },
            "type": "scattercarpet"
           }
          ],
          "scattergeo": [
           {
            "marker": {
             "colorbar": {
              "outlinewidth": 0,
              "ticks": ""
             }
            },
            "type": "scattergeo"
           }
          ],
          "scattergl": [
           {
            "marker": {
             "colorbar": {
              "outlinewidth": 0,
              "ticks": ""
             }
            },
            "type": "scattergl"
           }
          ],
          "scattermapbox": [
           {
            "marker": {
             "colorbar": {
              "outlinewidth": 0,
              "ticks": ""
             }
            },
            "type": "scattermapbox"
           }
          ],
          "scatterpolar": [
           {
            "marker": {
             "colorbar": {
              "outlinewidth": 0,
              "ticks": ""
             }
            },
            "type": "scatterpolar"
           }
          ],
          "scatterpolargl": [
           {
            "marker": {
             "colorbar": {
              "outlinewidth": 0,
              "ticks": ""
             }
            },
            "type": "scatterpolargl"
           }
          ],
          "scatterternary": [
           {
            "marker": {
             "colorbar": {
              "outlinewidth": 0,
              "ticks": ""
             }
            },
            "type": "scatterternary"
           }
          ],
          "surface": [
           {
            "colorbar": {
             "outlinewidth": 0,
             "ticks": ""
            },
            "colorscale": [
             [
              0,
              "#0d0887"
             ],
             [
              0.1111111111111111,
              "#46039f"
             ],
             [
              0.2222222222222222,
              "#7201a8"
             ],
             [
              0.3333333333333333,
              "#9c179e"
             ],
             [
              0.4444444444444444,
              "#bd3786"
             ],
             [
              0.5555555555555556,
              "#d8576b"
             ],
             [
              0.6666666666666666,
              "#ed7953"
             ],
             [
              0.7777777777777778,
              "#fb9f3a"
             ],
             [
              0.8888888888888888,
              "#fdca26"
             ],
             [
              1,
              "#f0f921"
             ]
            ],
            "type": "surface"
           }
          ],
          "table": [
           {
            "cells": {
             "fill": {
              "color": "#EBF0F8"
             },
             "line": {
              "color": "white"
             }
            },
            "header": {
             "fill": {
              "color": "#C8D4E3"
             },
             "line": {
              "color": "white"
             }
            },
            "type": "table"
           }
          ]
         },
         "layout": {
          "annotationdefaults": {
           "arrowcolor": "#2a3f5f",
           "arrowhead": 0,
           "arrowwidth": 1
          },
          "autotypenumbers": "strict",
          "coloraxis": {
           "colorbar": {
            "outlinewidth": 0,
            "ticks": ""
           }
          },
          "colorscale": {
           "diverging": [
            [
             0,
             "#8e0152"
            ],
            [
             0.1,
             "#c51b7d"
            ],
            [
             0.2,
             "#de77ae"
            ],
            [
             0.3,
             "#f1b6da"
            ],
            [
             0.4,
             "#fde0ef"
            ],
            [
             0.5,
             "#f7f7f7"
            ],
            [
             0.6,
             "#e6f5d0"
            ],
            [
             0.7,
             "#b8e186"
            ],
            [
             0.8,
             "#7fbc41"
            ],
            [
             0.9,
             "#4d9221"
            ],
            [
             1,
             "#276419"
            ]
           ],
           "sequential": [
            [
             0,
             "#0d0887"
            ],
            [
             0.1111111111111111,
             "#46039f"
            ],
            [
             0.2222222222222222,
             "#7201a8"
            ],
            [
             0.3333333333333333,
             "#9c179e"
            ],
            [
             0.4444444444444444,
             "#bd3786"
            ],
            [
             0.5555555555555556,
             "#d8576b"
            ],
            [
             0.6666666666666666,
             "#ed7953"
            ],
            [
             0.7777777777777778,
             "#fb9f3a"
            ],
            [
             0.8888888888888888,
             "#fdca26"
            ],
            [
             1,
             "#f0f921"
            ]
           ],
           "sequentialminus": [
            [
             0,
             "#0d0887"
            ],
            [
             0.1111111111111111,
             "#46039f"
            ],
            [
             0.2222222222222222,
             "#7201a8"
            ],
            [
             0.3333333333333333,
             "#9c179e"
            ],
            [
             0.4444444444444444,
             "#bd3786"
            ],
            [
             0.5555555555555556,
             "#d8576b"
            ],
            [
             0.6666666666666666,
             "#ed7953"
            ],
            [
             0.7777777777777778,
             "#fb9f3a"
            ],
            [
             0.8888888888888888,
             "#fdca26"
            ],
            [
             1,
             "#f0f921"
            ]
           ]
          },
          "colorway": [
           "#636efa",
           "#EF553B",
           "#00cc96",
           "#ab63fa",
           "#FFA15A",
           "#19d3f3",
           "#FF6692",
           "#B6E880",
           "#FF97FF",
           "#FECB52"
          ],
          "font": {
           "color": "#2a3f5f"
          },
          "geo": {
           "bgcolor": "white",
           "lakecolor": "white",
           "landcolor": "#E5ECF6",
           "showlakes": true,
           "showland": true,
           "subunitcolor": "white"
          },
          "hoverlabel": {
           "align": "left"
          },
          "hovermode": "closest",
          "mapbox": {
           "style": "light"
          },
          "paper_bgcolor": "white",
          "plot_bgcolor": "#E5ECF6",
          "polar": {
           "angularaxis": {
            "gridcolor": "white",
            "linecolor": "white",
            "ticks": ""
           },
           "bgcolor": "#E5ECF6",
           "radialaxis": {
            "gridcolor": "white",
            "linecolor": "white",
            "ticks": ""
           }
          },
          "scene": {
           "xaxis": {
            "backgroundcolor": "#E5ECF6",
            "gridcolor": "white",
            "gridwidth": 2,
            "linecolor": "white",
            "showbackground": true,
            "ticks": "",
            "zerolinecolor": "white"
           },
           "yaxis": {
            "backgroundcolor": "#E5ECF6",
            "gridcolor": "white",
            "gridwidth": 2,
            "linecolor": "white",
            "showbackground": true,
            "ticks": "",
            "zerolinecolor": "white"
           },
           "zaxis": {
            "backgroundcolor": "#E5ECF6",
            "gridcolor": "white",
            "gridwidth": 2,
            "linecolor": "white",
            "showbackground": true,
            "ticks": "",
            "zerolinecolor": "white"
           }
          },
          "shapedefaults": {
           "line": {
            "color": "#2a3f5f"
           }
          },
          "ternary": {
           "aaxis": {
            "gridcolor": "white",
            "linecolor": "white",
            "ticks": ""
           },
           "baxis": {
            "gridcolor": "white",
            "linecolor": "white",
            "ticks": ""
           },
           "bgcolor": "#E5ECF6",
           "caxis": {
            "gridcolor": "white",
            "linecolor": "white",
            "ticks": ""
           }
          },
          "title": {
           "x": 0.05
          },
          "xaxis": {
           "automargin": true,
           "gridcolor": "white",
           "linecolor": "white",
           "ticks": "",
           "title": {
            "standoff": 15
           },
           "zerolinecolor": "white",
           "zerolinewidth": 2
          },
          "yaxis": {
           "automargin": true,
           "gridcolor": "white",
           "linecolor": "white",
           "ticks": "",
           "title": {
            "standoff": 15
           },
           "zerolinecolor": "white",
           "zerolinewidth": 2
          }
         }
        },
        "title": {
         "text": "Education Level Distribution by Gender"
        },
        "xaxis": {
         "anchor": "y",
         "categoryarray": [
          "High School",
          "Bachelor's Degree",
          "Master's Degree",
          "Ph.D."
         ],
         "categoryorder": "array",
         "domain": [
          0,
          1
         ],
         "title": {
          "text": "Education Level"
         }
        },
        "yaxis": {
         "anchor": "x",
         "domain": [
          0,
          1
         ],
         "title": {
          "text": "Count"
         }
        }
       }
      }
     },
     "metadata": {},
     "output_type": "display_data"
    }
   ],
   "source": [
    "# education level distribution by gender\n",
    "education_order = [\"High School\", \"Bachelor's Degree\", \"Master's Degree\", \"Ph.D.\"]\n",
    "fig = px.bar(data, x=\"Education Level\", color=\"Gender\", \n",
    "             category_orders={\"Education Level\": education_order},\n",
    "             title=\"Education Level Distribution by Gender\")\n",
    "\n",
    "fig.update_layout(xaxis_title=\"Education Level\", yaxis_title=\"Count\")\n",
    "fig.show()"
   ]
  },
  {
   "cell_type": "code",
   "execution_count": 4,
   "metadata": {},
   "outputs": [
    {
     "data": {
      "application/vnd.plotly.v1+json": {
       "config": {
        "plotlyServerURL": "https://plot.ly"
       },
       "data": [
        {
         "alignmentgroup": "True",
         "hovertemplate": "Frequency of Usage=%{x}<br>count=%{y}<extra></extra>",
         "legendgroup": "",
         "marker": {
          "color": "#636efa",
          "pattern": {
           "shape": ""
          }
         },
         "name": "",
         "offsetgroup": "",
         "orientation": "v",
         "showlegend": false,
         "textposition": "auto",
         "type": "bar",
         "x": [
          "Weekly",
          "Monthly",
          "Daily",
          "Daily",
          "Monthly",
          "Monthly",
          "Monthly",
          "Daily",
          "Monthly",
          "Weekly",
          "Weekly",
          "Monthly",
          "Weekly",
          "Monthly",
          "Monthly",
          "Monthly",
          "Weekly",
          "Daily",
          "Daily",
          "Daily",
          "Weekly",
          "Weekly",
          "Daily",
          "Daily",
          "Monthly",
          "Monthly",
          "Monthly",
          "Daily",
          "Weekly",
          "Monthly",
          "Weekly",
          "Weekly",
          "Monthly",
          "Weekly",
          "Weekly",
          "Daily",
          "Monthly",
          "Weekly",
          "Weekly",
          "Daily",
          "Monthly",
          "Monthly",
          "Weekly",
          "Daily",
          "Weekly",
          "Daily",
          "Daily",
          "Weekly",
          "Daily",
          "Weekly",
          "Monthly",
          "Monthly",
          "Monthly",
          "Monthly",
          "Daily",
          "Daily",
          "Daily",
          "Daily",
          "Monthly",
          "Monthly",
          "Weekly",
          "Daily",
          "Weekly",
          "Monthly",
          "Monthly",
          "Daily",
          "Daily",
          "Weekly",
          "Monthly",
          "Daily",
          "Weekly",
          "Weekly",
          "Weekly",
          "Daily",
          "Daily",
          "Weekly",
          "Weekly",
          "Daily",
          "Daily",
          "Monthly",
          "Weekly",
          "Monthly",
          "Weekly",
          "Daily",
          "Monthly",
          "Monthly",
          "Weekly",
          "Daily",
          "Weekly",
          "Weekly",
          "Weekly",
          "Weekly",
          "Daily",
          "Weekly",
          "Daily",
          "Weekly",
          "Daily",
          "Daily",
          "Monthly",
          "Weekly",
          "Monthly",
          "Daily",
          "Monthly",
          "Daily",
          "Daily",
          "Monthly",
          "Monthly",
          "Monthly",
          "Daily",
          "Weekly",
          "Daily",
          "Monthly",
          "Daily",
          "Weekly",
          "Weekly",
          "Daily",
          "Monthly",
          "Weekly",
          "Weekly",
          "Daily",
          "Daily",
          "Monthly",
          "Daily",
          "Daily",
          "Daily",
          "Monthly",
          "Weekly",
          "Monthly",
          "Weekly",
          "Daily",
          "Weekly",
          "Daily",
          "Monthly",
          "Monthly",
          "Monthly",
          "Daily",
          "Weekly",
          "Weekly",
          "Weekly",
          "Monthly",
          "Daily",
          "Daily",
          "Weekly",
          "Daily",
          "Monthly",
          "Daily",
          "Daily",
          "Weekly",
          "Daily",
          "Weekly",
          "Weekly",
          "Weekly",
          "Monthly",
          "Daily",
          "Weekly",
          "Daily",
          "Daily",
          "Monthly",
          "Daily",
          "Daily",
          "Monthly",
          "Daily",
          "Monthly",
          "Daily",
          "Monthly",
          "Weekly",
          "Daily",
          "Daily",
          "Daily",
          "Daily",
          "Daily",
          "Weekly",
          "Monthly",
          "Daily",
          "Monthly",
          "Daily",
          "Weekly",
          "Weekly",
          "Daily",
          "Weekly",
          "Monthly",
          "Daily",
          "Daily",
          "Monthly",
          "Daily",
          "Monthly",
          "Daily",
          "Monthly",
          "Daily",
          "Monthly",
          "Weekly",
          "Monthly",
          "Daily",
          "Weekly",
          "Weekly",
          "Monthly",
          "Daily",
          "Monthly",
          "Daily",
          "Monthly",
          "Weekly",
          "Daily",
          "Weekly",
          "Daily",
          "Daily",
          "Weekly",
          "Daily",
          "Weekly",
          "Monthly",
          "Monthly",
          "Monthly",
          "Monthly",
          "Weekly",
          "Monthly",
          "Weekly",
          "Weekly",
          "Weekly",
          "Weekly",
          "Monthly",
          "Daily",
          "Monthly",
          "Monthly",
          "Weekly",
          "Daily",
          "Weekly",
          "Weekly",
          "Monthly",
          "Weekly",
          "Weekly",
          "Daily",
          "Weekly",
          "Weekly",
          "Weekly",
          "Weekly",
          "Monthly",
          "Weekly",
          "Weekly",
          "Monthly",
          "Daily",
          "Weekly",
          "Daily",
          "Weekly",
          "Daily",
          "Monthly",
          "Monthly",
          "Daily",
          "Daily",
          "Monthly",
          "Daily",
          "Weekly",
          "Daily",
          "Daily",
          "Daily",
          "Daily",
          "Monthly",
          "Weekly",
          "Monthly",
          "Monthly",
          "Weekly",
          "Daily",
          "Weekly",
          "Weekly",
          "Daily",
          "Monthly",
          "Weekly",
          "Daily",
          "Daily",
          "Weekly",
          "Weekly",
          "Monthly",
          "Weekly",
          "Daily",
          "Weekly",
          "Weekly",
          "Weekly",
          "Monthly",
          "Daily",
          "Daily",
          "Weekly",
          "Monthly",
          "Weekly",
          "Weekly",
          "Weekly",
          "Weekly",
          "Monthly",
          "Daily",
          "Daily",
          "Daily",
          "Weekly",
          "Weekly",
          "Weekly",
          "Daily",
          "Daily",
          "Daily",
          "Weekly",
          "Daily",
          "Daily",
          "Weekly",
          "Daily",
          "Daily",
          "Daily",
          "Daily",
          "Weekly",
          "Weekly",
          "Daily",
          "Daily",
          "Daily",
          "Monthly",
          "Weekly",
          "Weekly",
          "Daily",
          "Monthly",
          "Monthly",
          "Weekly",
          "Weekly",
          "Monthly",
          "Monthly",
          "Weekly",
          "Monthly",
          "Weekly",
          "Monthly",
          "Monthly",
          "Weekly",
          "Daily",
          "Weekly",
          "Monthly",
          "Monthly",
          "Daily",
          "Monthly",
          "Monthly",
          "Daily",
          "Weekly",
          "Daily",
          "Weekly",
          "Weekly",
          "Daily",
          "Daily",
          "Monthly",
          "Daily",
          "Daily",
          "Weekly",
          "Monthly",
          "Daily",
          "Weekly",
          "Daily",
          "Daily",
          "Daily",
          "Monthly",
          "Daily",
          "Monthly",
          "Monthly",
          "Weekly",
          "Daily",
          "Monthly",
          "Monthly",
          "Daily",
          "Daily",
          "Weekly",
          "Weekly",
          "Monthly",
          "Weekly",
          "Daily",
          "Daily",
          "Monthly",
          "Weekly",
          "Monthly",
          "Daily",
          "Monthly",
          "Daily",
          "Monthly",
          "Daily",
          "Monthly",
          "Monthly",
          "Monthly",
          "Monthly",
          "Monthly",
          "Weekly",
          "Daily",
          "Weekly",
          "Daily",
          "Weekly",
          "Monthly",
          "Monthly",
          "Daily",
          "Weekly",
          "Monthly",
          "Weekly",
          "Monthly",
          "Weekly",
          "Weekly",
          "Daily",
          "Monthly",
          "Daily",
          "Weekly",
          "Monthly",
          "Daily",
          "Weekly",
          "Daily",
          "Weekly",
          "Weekly",
          "Daily",
          "Weekly",
          "Weekly",
          "Daily",
          "Monthly",
          "Daily",
          "Monthly",
          "Daily",
          "Weekly",
          "Weekly",
          "Daily",
          "Daily",
          "Weekly",
          "Daily",
          "Weekly",
          "Daily",
          "Monthly",
          "Weekly",
          "Weekly",
          "Monthly",
          "Monthly",
          "Weekly",
          "Daily",
          "Monthly",
          "Weekly",
          "Weekly",
          "Weekly",
          "Daily",
          "Weekly",
          "Daily",
          "Weekly",
          "Monthly",
          "Monthly",
          "Weekly",
          "Daily",
          "Daily",
          "Daily",
          "Monthly",
          "Monthly",
          "Weekly",
          "Daily",
          "Daily",
          "Monthly",
          "Monthly",
          "Daily",
          "Monthly",
          "Daily",
          "Daily",
          "Daily",
          "Daily",
          "Weekly",
          "Weekly",
          "Monthly",
          "Daily",
          "Monthly",
          "Monthly",
          "Daily",
          "Daily",
          "Weekly",
          "Monthly",
          "Daily",
          "Daily",
          "Monthly",
          "Monthly",
          "Weekly",
          "Weekly",
          "Monthly",
          "Monthly",
          "Monthly",
          "Weekly",
          "Monthly",
          "Daily",
          "Weekly",
          "Weekly",
          "Weekly",
          "Weekly",
          "Weekly",
          "Weekly",
          "Monthly",
          "Monthly",
          "Daily",
          "Monthly",
          "Daily",
          "Daily",
          "Monthly",
          "Monthly",
          "Weekly",
          "Weekly",
          "Weekly",
          "Weekly",
          "Daily",
          "Monthly",
          "Daily",
          "Daily",
          "Daily",
          "Daily",
          "Daily",
          "Daily",
          "Monthly",
          "Monthly"
         ],
         "xaxis": "x",
         "y": [
          1,
          1,
          1,
          1,
          1,
          1,
          1,
          1,
          1,
          1,
          1,
          1,
          1,
          1,
          1,
          1,
          1,
          1,
          1,
          1,
          1,
          1,
          1,
          1,
          1,
          1,
          1,
          1,
          1,
          1,
          1,
          1,
          1,
          1,
          1,
          1,
          1,
          1,
          1,
          1,
          1,
          1,
          1,
          1,
          1,
          1,
          1,
          1,
          1,
          1,
          1,
          1,
          1,
          1,
          1,
          1,
          1,
          1,
          1,
          1,
          1,
          1,
          1,
          1,
          1,
          1,
          1,
          1,
          1,
          1,
          1,
          1,
          1,
          1,
          1,
          1,
          1,
          1,
          1,
          1,
          1,
          1,
          1,
          1,
          1,
          1,
          1,
          1,
          1,
          1,
          1,
          1,
          1,
          1,
          1,
          1,
          1,
          1,
          1,
          1,
          1,
          1,
          1,
          1,
          1,
          1,
          1,
          1,
          1,
          1,
          1,
          1,
          1,
          1,
          1,
          1,
          1,
          1,
          1,
          1,
          1,
          1,
          1,
          1,
          1,
          1,
          1,
          1,
          1,
          1,
          1,
          1,
          1,
          1,
          1,
          1,
          1,
          1,
          1,
          1,
          1,
          1,
          1,
          1,
          1,
          1,
          1,
          1,
          1,
          1,
          1,
          1,
          1,
          1,
          1,
          1,
          1,
          1,
          1,
          1,
          1,
          1,
          1,
          1,
          1,
          1,
          1,
          1,
          1,
          1,
          1,
          1,
          1,
          1,
          1,
          1,
          1,
          1,
          1,
          1,
          1,
          1,
          1,
          1,
          1,
          1,
          1,
          1,
          1,
          1,
          1,
          1,
          1,
          1,
          1,
          1,
          1,
          1,
          1,
          1,
          1,
          1,
          1,
          1,
          1,
          1,
          1,
          1,
          1,
          1,
          1,
          1,
          1,
          1,
          1,
          1,
          1,
          1,
          1,
          1,
          1,
          1,
          1,
          1,
          1,
          1,
          1,
          1,
          1,
          1,
          1,
          1,
          1,
          1,
          1,
          1,
          1,
          1,
          1,
          1,
          1,
          1,
          1,
          1,
          1,
          1,
          1,
          1,
          1,
          1,
          1,
          1,
          1,
          1,
          1,
          1,
          1,
          1,
          1,
          1,
          1,
          1,
          1,
          1,
          1,
          1,
          1,
          1,
          1,
          1,
          1,
          1,
          1,
          1,
          1,
          1,
          1,
          1,
          1,
          1,
          1,
          1,
          1,
          1,
          1,
          1,
          1,
          1,
          1,
          1,
          1,
          1,
          1,
          1,
          1,
          1,
          1,
          1,
          1,
          1,
          1,
          1,
          1,
          1,
          1,
          1,
          1,
          1,
          1,
          1,
          1,
          1,
          1,
          1,
          1,
          1,
          1,
          1,
          1,
          1,
          1,
          1,
          1,
          1,
          1,
          1,
          1,
          1,
          1,
          1,
          1,
          1,
          1,
          1,
          1,
          1,
          1,
          1,
          1,
          1,
          1,
          1,
          1,
          1,
          1,
          1,
          1,
          1,
          1,
          1,
          1,
          1,
          1,
          1,
          1,
          1,
          1,
          1,
          1,
          1,
          1,
          1,
          1,
          1,
          1,
          1,
          1,
          1,
          1,
          1,
          1,
          1,
          1,
          1,
          1,
          1,
          1,
          1,
          1,
          1,
          1,
          1,
          1,
          1,
          1,
          1,
          1,
          1,
          1,
          1,
          1,
          1,
          1,
          1,
          1,
          1,
          1,
          1,
          1,
          1,
          1,
          1,
          1,
          1,
          1,
          1,
          1,
          1,
          1,
          1,
          1,
          1,
          1,
          1,
          1,
          1,
          1,
          1,
          1,
          1,
          1,
          1,
          1,
          1,
          1,
          1,
          1,
          1,
          1,
          1,
          1,
          1,
          1,
          1,
          1,
          1,
          1,
          1,
          1,
          1,
          1,
          1,
          1,
          1,
          1,
          1,
          1,
          1,
          1,
          1,
          1,
          1,
          1,
          1,
          1,
          1,
          1,
          1,
          1,
          1,
          1,
          1,
          1,
          1,
          1,
          1,
          1,
          1,
          1,
          1,
          1,
          1,
          1,
          1,
          1,
          1,
          1,
          1,
          1,
          1,
          1,
          1,
          1,
          1,
          1,
          1,
          1,
          1,
          1,
          1,
          1,
          1,
          1,
          1,
          1,
          1,
          1,
          1,
          1,
          1
         ],
         "yaxis": "y"
        }
       ],
       "layout": {
        "barmode": "relative",
        "legend": {
         "tracegroupgap": 0
        },
        "template": {
         "data": {
          "bar": [
           {
            "error_x": {
             "color": "#2a3f5f"
            },
            "error_y": {
             "color": "#2a3f5f"
            },
            "marker": {
             "line": {
              "color": "#E5ECF6",
              "width": 0.5
             },
             "pattern": {
              "fillmode": "overlay",
              "size": 10,
              "solidity": 0.2
             }
            },
            "type": "bar"
           }
          ],
          "barpolar": [
           {
            "marker": {
             "line": {
              "color": "#E5ECF6",
              "width": 0.5
             },
             "pattern": {
              "fillmode": "overlay",
              "size": 10,
              "solidity": 0.2
             }
            },
            "type": "barpolar"
           }
          ],
          "carpet": [
           {
            "aaxis": {
             "endlinecolor": "#2a3f5f",
             "gridcolor": "white",
             "linecolor": "white",
             "minorgridcolor": "white",
             "startlinecolor": "#2a3f5f"
            },
            "baxis": {
             "endlinecolor": "#2a3f5f",
             "gridcolor": "white",
             "linecolor": "white",
             "minorgridcolor": "white",
             "startlinecolor": "#2a3f5f"
            },
            "type": "carpet"
           }
          ],
          "choropleth": [
           {
            "colorbar": {
             "outlinewidth": 0,
             "ticks": ""
            },
            "type": "choropleth"
           }
          ],
          "contour": [
           {
            "colorbar": {
             "outlinewidth": 0,
             "ticks": ""
            },
            "colorscale": [
             [
              0,
              "#0d0887"
             ],
             [
              0.1111111111111111,
              "#46039f"
             ],
             [
              0.2222222222222222,
              "#7201a8"
             ],
             [
              0.3333333333333333,
              "#9c179e"
             ],
             [
              0.4444444444444444,
              "#bd3786"
             ],
             [
              0.5555555555555556,
              "#d8576b"
             ],
             [
              0.6666666666666666,
              "#ed7953"
             ],
             [
              0.7777777777777778,
              "#fb9f3a"
             ],
             [
              0.8888888888888888,
              "#fdca26"
             ],
             [
              1,
              "#f0f921"
             ]
            ],
            "type": "contour"
           }
          ],
          "contourcarpet": [
           {
            "colorbar": {
             "outlinewidth": 0,
             "ticks": ""
            },
            "type": "contourcarpet"
           }
          ],
          "heatmap": [
           {
            "colorbar": {
             "outlinewidth": 0,
             "ticks": ""
            },
            "colorscale": [
             [
              0,
              "#0d0887"
             ],
             [
              0.1111111111111111,
              "#46039f"
             ],
             [
              0.2222222222222222,
              "#7201a8"
             ],
             [
              0.3333333333333333,
              "#9c179e"
             ],
             [
              0.4444444444444444,
              "#bd3786"
             ],
             [
              0.5555555555555556,
              "#d8576b"
             ],
             [
              0.6666666666666666,
              "#ed7953"
             ],
             [
              0.7777777777777778,
              "#fb9f3a"
             ],
             [
              0.8888888888888888,
              "#fdca26"
             ],
             [
              1,
              "#f0f921"
             ]
            ],
            "type": "heatmap"
           }
          ],
          "heatmapgl": [
           {
            "colorbar": {
             "outlinewidth": 0,
             "ticks": ""
            },
            "colorscale": [
             [
              0,
              "#0d0887"
             ],
             [
              0.1111111111111111,
              "#46039f"
             ],
             [
              0.2222222222222222,
              "#7201a8"
             ],
             [
              0.3333333333333333,
              "#9c179e"
             ],
             [
              0.4444444444444444,
              "#bd3786"
             ],
             [
              0.5555555555555556,
              "#d8576b"
             ],
             [
              0.6666666666666666,
              "#ed7953"
             ],
             [
              0.7777777777777778,
              "#fb9f3a"
             ],
             [
              0.8888888888888888,
              "#fdca26"
             ],
             [
              1,
              "#f0f921"
             ]
            ],
            "type": "heatmapgl"
           }
          ],
          "histogram": [
           {
            "marker": {
             "pattern": {
              "fillmode": "overlay",
              "size": 10,
              "solidity": 0.2
             }
            },
            "type": "histogram"
           }
          ],
          "histogram2d": [
           {
            "colorbar": {
             "outlinewidth": 0,
             "ticks": ""
            },
            "colorscale": [
             [
              0,
              "#0d0887"
             ],
             [
              0.1111111111111111,
              "#46039f"
             ],
             [
              0.2222222222222222,
              "#7201a8"
             ],
             [
              0.3333333333333333,
              "#9c179e"
             ],
             [
              0.4444444444444444,
              "#bd3786"
             ],
             [
              0.5555555555555556,
              "#d8576b"
             ],
             [
              0.6666666666666666,
              "#ed7953"
             ],
             [
              0.7777777777777778,
              "#fb9f3a"
             ],
             [
              0.8888888888888888,
              "#fdca26"
             ],
             [
              1,
              "#f0f921"
             ]
            ],
            "type": "histogram2d"
           }
          ],
          "histogram2dcontour": [
           {
            "colorbar": {
             "outlinewidth": 0,
             "ticks": ""
            },
            "colorscale": [
             [
              0,
              "#0d0887"
             ],
             [
              0.1111111111111111,
              "#46039f"
             ],
             [
              0.2222222222222222,
              "#7201a8"
             ],
             [
              0.3333333333333333,
              "#9c179e"
             ],
             [
              0.4444444444444444,
              "#bd3786"
             ],
             [
              0.5555555555555556,
              "#d8576b"
             ],
             [
              0.6666666666666666,
              "#ed7953"
             ],
             [
              0.7777777777777778,
              "#fb9f3a"
             ],
             [
              0.8888888888888888,
              "#fdca26"
             ],
             [
              1,
              "#f0f921"
             ]
            ],
            "type": "histogram2dcontour"
           }
          ],
          "mesh3d": [
           {
            "colorbar": {
             "outlinewidth": 0,
             "ticks": ""
            },
            "type": "mesh3d"
           }
          ],
          "parcoords": [
           {
            "line": {
             "colorbar": {
              "outlinewidth": 0,
              "ticks": ""
             }
            },
            "type": "parcoords"
           }
          ],
          "pie": [
           {
            "automargin": true,
            "type": "pie"
           }
          ],
          "scatter": [
           {
            "fillpattern": {
             "fillmode": "overlay",
             "size": 10,
             "solidity": 0.2
            },
            "type": "scatter"
           }
          ],
          "scatter3d": [
           {
            "line": {
             "colorbar": {
              "outlinewidth": 0,
              "ticks": ""
             }
            },
            "marker": {
             "colorbar": {
              "outlinewidth": 0,
              "ticks": ""
             }
            },
            "type": "scatter3d"
           }
          ],
          "scattercarpet": [
           {
            "marker": {
             "colorbar": {
              "outlinewidth": 0,
              "ticks": ""
             }
            },
            "type": "scattercarpet"
           }
          ],
          "scattergeo": [
           {
            "marker": {
             "colorbar": {
              "outlinewidth": 0,
              "ticks": ""
             }
            },
            "type": "scattergeo"
           }
          ],
          "scattergl": [
           {
            "marker": {
             "colorbar": {
              "outlinewidth": 0,
              "ticks": ""
             }
            },
            "type": "scattergl"
           }
          ],
          "scattermapbox": [
           {
            "marker": {
             "colorbar": {
              "outlinewidth": 0,
              "ticks": ""
             }
            },
            "type": "scattermapbox"
           }
          ],
          "scatterpolar": [
           {
            "marker": {
             "colorbar": {
              "outlinewidth": 0,
              "ticks": ""
             }
            },
            "type": "scatterpolar"
           }
          ],
          "scatterpolargl": [
           {
            "marker": {
             "colorbar": {
              "outlinewidth": 0,
              "ticks": ""
             }
            },
            "type": "scatterpolargl"
           }
          ],
          "scatterternary": [
           {
            "marker": {
             "colorbar": {
              "outlinewidth": 0,
              "ticks": ""
             }
            },
            "type": "scatterternary"
           }
          ],
          "surface": [
           {
            "colorbar": {
             "outlinewidth": 0,
             "ticks": ""
            },
            "colorscale": [
             [
              0,
              "#0d0887"
             ],
             [
              0.1111111111111111,
              "#46039f"
             ],
             [
              0.2222222222222222,
              "#7201a8"
             ],
             [
              0.3333333333333333,
              "#9c179e"
             ],
             [
              0.4444444444444444,
              "#bd3786"
             ],
             [
              0.5555555555555556,
              "#d8576b"
             ],
             [
              0.6666666666666666,
              "#ed7953"
             ],
             [
              0.7777777777777778,
              "#fb9f3a"
             ],
             [
              0.8888888888888888,
              "#fdca26"
             ],
             [
              1,
              "#f0f921"
             ]
            ],
            "type": "surface"
           }
          ],
          "table": [
           {
            "cells": {
             "fill": {
              "color": "#EBF0F8"
             },
             "line": {
              "color": "white"
             }
            },
            "header": {
             "fill": {
              "color": "#C8D4E3"
             },
             "line": {
              "color": "white"
             }
            },
            "type": "table"
           }
          ]
         },
         "layout": {
          "annotationdefaults": {
           "arrowcolor": "#2a3f5f",
           "arrowhead": 0,
           "arrowwidth": 1
          },
          "autotypenumbers": "strict",
          "coloraxis": {
           "colorbar": {
            "outlinewidth": 0,
            "ticks": ""
           }
          },
          "colorscale": {
           "diverging": [
            [
             0,
             "#8e0152"
            ],
            [
             0.1,
             "#c51b7d"
            ],
            [
             0.2,
             "#de77ae"
            ],
            [
             0.3,
             "#f1b6da"
            ],
            [
             0.4,
             "#fde0ef"
            ],
            [
             0.5,
             "#f7f7f7"
            ],
            [
             0.6,
             "#e6f5d0"
            ],
            [
             0.7,
             "#b8e186"
            ],
            [
             0.8,
             "#7fbc41"
            ],
            [
             0.9,
             "#4d9221"
            ],
            [
             1,
             "#276419"
            ]
           ],
           "sequential": [
            [
             0,
             "#0d0887"
            ],
            [
             0.1111111111111111,
             "#46039f"
            ],
            [
             0.2222222222222222,
             "#7201a8"
            ],
            [
             0.3333333333333333,
             "#9c179e"
            ],
            [
             0.4444444444444444,
             "#bd3786"
            ],
            [
             0.5555555555555556,
             "#d8576b"
            ],
            [
             0.6666666666666666,
             "#ed7953"
            ],
            [
             0.7777777777777778,
             "#fb9f3a"
            ],
            [
             0.8888888888888888,
             "#fdca26"
            ],
            [
             1,
             "#f0f921"
            ]
           ],
           "sequentialminus": [
            [
             0,
             "#0d0887"
            ],
            [
             0.1111111111111111,
             "#46039f"
            ],
            [
             0.2222222222222222,
             "#7201a8"
            ],
            [
             0.3333333333333333,
             "#9c179e"
            ],
            [
             0.4444444444444444,
             "#bd3786"
            ],
            [
             0.5555555555555556,
             "#d8576b"
            ],
            [
             0.6666666666666666,
             "#ed7953"
            ],
            [
             0.7777777777777778,
             "#fb9f3a"
            ],
            [
             0.8888888888888888,
             "#fdca26"
            ],
            [
             1,
             "#f0f921"
            ]
           ]
          },
          "colorway": [
           "#636efa",
           "#EF553B",
           "#00cc96",
           "#ab63fa",
           "#FFA15A",
           "#19d3f3",
           "#FF6692",
           "#B6E880",
           "#FF97FF",
           "#FECB52"
          ],
          "font": {
           "color": "#2a3f5f"
          },
          "geo": {
           "bgcolor": "white",
           "lakecolor": "white",
           "landcolor": "#E5ECF6",
           "showlakes": true,
           "showland": true,
           "subunitcolor": "white"
          },
          "hoverlabel": {
           "align": "left"
          },
          "hovermode": "closest",
          "mapbox": {
           "style": "light"
          },
          "paper_bgcolor": "white",
          "plot_bgcolor": "#E5ECF6",
          "polar": {
           "angularaxis": {
            "gridcolor": "white",
            "linecolor": "white",
            "ticks": ""
           },
           "bgcolor": "#E5ECF6",
           "radialaxis": {
            "gridcolor": "white",
            "linecolor": "white",
            "ticks": ""
           }
          },
          "scene": {
           "xaxis": {
            "backgroundcolor": "#E5ECF6",
            "gridcolor": "white",
            "gridwidth": 2,
            "linecolor": "white",
            "showbackground": true,
            "ticks": "",
            "zerolinecolor": "white"
           },
           "yaxis": {
            "backgroundcolor": "#E5ECF6",
            "gridcolor": "white",
            "gridwidth": 2,
            "linecolor": "white",
            "showbackground": true,
            "ticks": "",
            "zerolinecolor": "white"
           },
           "zaxis": {
            "backgroundcolor": "#E5ECF6",
            "gridcolor": "white",
            "gridwidth": 2,
            "linecolor": "white",
            "showbackground": true,
            "ticks": "",
            "zerolinecolor": "white"
           }
          },
          "shapedefaults": {
           "line": {
            "color": "#2a3f5f"
           }
          },
          "ternary": {
           "aaxis": {
            "gridcolor": "white",
            "linecolor": "white",
            "ticks": ""
           },
           "baxis": {
            "gridcolor": "white",
            "linecolor": "white",
            "ticks": ""
           },
           "bgcolor": "#E5ECF6",
           "caxis": {
            "gridcolor": "white",
            "linecolor": "white",
            "ticks": ""
           }
          },
          "title": {
           "x": 0.05
          },
          "xaxis": {
           "automargin": true,
           "gridcolor": "white",
           "linecolor": "white",
           "ticks": "",
           "title": {
            "standoff": 15
           },
           "zerolinecolor": "white",
           "zerolinewidth": 2
          },
          "yaxis": {
           "automargin": true,
           "gridcolor": "white",
           "linecolor": "white",
           "ticks": "",
           "title": {
            "standoff": 15
           },
           "zerolinecolor": "white",
           "zerolinewidth": 2
          }
         }
        },
        "title": {
         "text": "Frequency of App Usage Distribution"
        },
        "xaxis": {
         "anchor": "y",
         "domain": [
          0,
          1
         ],
         "title": {
          "text": "Frequency of Usage"
         }
        },
        "yaxis": {
         "anchor": "x",
         "domain": [
          0,
          1
         ],
         "title": {
          "text": "Count"
         }
        }
       }
      }
     },
     "metadata": {},
     "output_type": "display_data"
    }
   ],
   "source": [
    "# frequency of app usage distribution\n",
    "fig = px.bar(data, x=\"Frequency of Usage\", \n",
    "             title=\"Frequency of App Usage Distribution\")\n",
    "fig.update_layout(xaxis_title=\"Frequency of Usage\", \n",
    "                  yaxis_title=\"Count\")\n",
    "fig.show()"
   ]
  },
  {
   "cell_type": "code",
   "execution_count": 5,
   "metadata": {},
   "outputs": [
    {
     "name": "stdout",
     "output_type": "stream",
     "text": [
      "Match score between User 1 and User 2 : 9.96\n"
     ]
    }
   ],
   "source": [
    "# Separate data into male and female\n",
    "male_profiles = data[data['Gender'] == 'Male']\n",
    "female_profiles = data[data['Gender'] == 'Female']\n",
    "def calculate_match_score(profile1, profile2):\n",
    "    # Shared interests score (1 point per shared interest)\n",
    "    interests1 = set(eval(profile1['Interests']))\n",
    "    interests2 = set(eval(profile2['Interests']))\n",
    "    shared_interests_score = len(interests1.intersection(interests2))\n",
    "\n",
    "    # Age difference score (higher age difference, lower score)\n",
    "    age_difference_score = max(0, 10 - abs(profile1['Age'] - profile2['Age']))\n",
    "\n",
    "    # Swiping history score (higher swiping history, higher score)\n",
    "    swiping_history_score = min(profile1['Swiping History'], profile2['Swiping History']) / 100\n",
    "\n",
    "    # Relationship type score (1 point for matching types)\n",
    "    relationship_type_score = 0\n",
    "    if profile1['Looking For'] == profile2['Looking For']:\n",
    "        relationship_type_score = 1\n",
    "\n",
    "    # Total match score\n",
    "    total_score = (\n",
    "        shared_interests_score + age_difference_score + swiping_history_score + relationship_type_score\n",
    "    )\n",
    "\n",
    "    return total_score\n",
    "\n",
    "# Example: Calculate match score between two profiles\n",
    "profile1 = male_profiles.iloc[0]\n",
    "profile2 = female_profiles.iloc[0]\n",
    "match_score = calculate_match_score(profile1, profile2)\n",
    "print(f\"Match score between User {profile1['User ID']} and User {profile2['User ID']} : {match_score}\")"
   ]
  },
  {
   "cell_type": "code",
   "execution_count": 6,
   "metadata": {},
   "outputs": [
    {
     "name": "stdout",
     "output_type": "stream",
     "text": [
      "Recommendation 1:\n",
      "Male Profile (User 36): Age 19, Interests ['Movies', 'Cooking', 'Hiking', 'Reading', 'Sports', 'Travel', 'Music']\n",
      "Female Profile (User 451): Age 19, Interests ['Reading', 'Music', 'Cooking', 'Hiking', 'Travel', 'Sports', 'Movies']\n",
      "Match Score: 18.79\n",
      "\n",
      "Recommendation 2:\n",
      "Male Profile (User 274): Age 29, Interests ['Reading', 'Movies', 'Travel', 'Music', 'Hiking', 'Cooking', 'Sports']\n",
      "Female Profile (User 300): Age 29, Interests ['Cooking', 'Reading', 'Music', 'Hiking', 'Travel', 'Sports', 'Movies']\n",
      "Match Score: 18.73\n",
      "\n",
      "Recommendation 3:\n",
      "Male Profile (User 456): Age 29, Interests ['Cooking', 'Hiking', 'Sports', 'Travel', 'Music', 'Movies', 'Reading']\n",
      "Female Profile (User 65): Age 29, Interests ['Travel', 'Movies', 'Reading', 'Sports', 'Music', 'Cooking', 'Hiking']\n",
      "Match Score: 18.69\n",
      "\n",
      "Recommendation 4:\n",
      "Male Profile (User 147): Age 34, Interests ['Reading', 'Travel', 'Movies', 'Hiking', 'Cooking', 'Music', 'Sports']\n",
      "Female Profile (User 287): Age 34, Interests ['Reading', 'Hiking', 'Cooking', 'Music', 'Movies', 'Travel', 'Sports']\n",
      "Match Score: 18.66\n",
      "\n",
      "Recommendation 5:\n",
      "Male Profile (User 321): Age 20, Interests ['Sports', 'Reading', 'Cooking', 'Travel', 'Movies', 'Hiking', 'Music']\n",
      "Female Profile (User 168): Age 20, Interests ['Cooking', 'Sports', 'Music', 'Reading', 'Travel', 'Hiking', 'Movies']\n",
      "Match Score: 18.58\n",
      "\n",
      "Recommendation 6:\n",
      "Male Profile (User 323): Age 30, Interests ['Hiking', 'Travel', 'Movies', 'Reading', 'Sports', 'Cooking', 'Music']\n",
      "Female Profile (User 497): Age 30, Interests ['Hiking', 'Reading', 'Travel', 'Sports', 'Music', 'Cooking', 'Movies']\n",
      "Match Score: 18.57\n",
      "\n",
      "Recommendation 7:\n",
      "Male Profile (User 181): Age 25, Interests ['Sports', 'Music', 'Hiking', 'Travel', 'Cooking', 'Movies', 'Reading']\n",
      "Female Profile (User 175): Age 25, Interests ['Sports', 'Music', 'Travel', 'Hiking', 'Movies', 'Reading', 'Cooking']\n",
      "Match Score: 18.34\n",
      "\n",
      "Recommendation 8:\n",
      "Male Profile (User 489): Age 33, Interests ['Travel', 'Hiking', 'Reading', 'Sports', 'Music', 'Movies', 'Cooking']\n",
      "Female Profile (User 99): Age 33, Interests ['Reading', 'Cooking', 'Sports', 'Hiking', 'Movies', 'Music', 'Travel']\n",
      "Match Score: 18.3\n",
      "\n",
      "Recommendation 9:\n",
      "Male Profile (User 280): Age 29, Interests ['Travel', 'Hiking', 'Music', 'Sports', 'Reading', 'Cooking', 'Movies']\n",
      "Female Profile (User 300): Age 29, Interests ['Cooking', 'Reading', 'Music', 'Hiking', 'Travel', 'Sports', 'Movies']\n",
      "Match Score: 18.29\n",
      "\n",
      "Recommendation 10:\n",
      "Male Profile (User 92): Age 22, Interests ['Music', 'Hiking', 'Cooking', 'Travel', 'Movies', 'Reading', 'Sports']\n",
      "Female Profile (User 205): Age 22, Interests ['Hiking', 'Movies', 'Reading', 'Travel', 'Sports', 'Cooking', 'Music']\n",
      "Match Score: 18.2\n",
      "\n"
     ]
    }
   ],
   "source": [
    "def recommend_profiles(male_profiles, female_profiles):\n",
    "    recommendations = []\n",
    "\n",
    "    for _, male_profile in male_profiles.iterrows():\n",
    "        best_match = None\n",
    "        best_score = -1\n",
    "\n",
    "        for _, female_profile in female_profiles.iterrows():\n",
    "            score = calculate_match_score(male_profile, female_profile)\n",
    "\n",
    "            if score > best_score:\n",
    "                best_match = female_profile\n",
    "                best_score = score\n",
    "\n",
    "        recommendations.append((male_profile, best_match, best_score))\n",
    "\n",
    "    return recommendations\n",
    "\n",
    "# Generate recommendations\n",
    "recommendations = recommend_profiles(male_profiles, female_profiles)\n",
    "\n",
    "# Sort recommendations by match score in descending order\n",
    "recommendations.sort(key=lambda x: x[2], reverse=True)\n",
    "\n",
    "# Display the top recommendations\n",
    "for idx, (male_profile, female_profile, match_score) in enumerate(recommendations[:10]):\n",
    "    print(f\"Recommendation {idx + 1}:\")\n",
    "    print(f\"Male Profile (User {male_profile['User ID']}): Age {male_profile['Age']}, Interests {male_profile['Interests']}\")\n",
    "    print(f\"Female Profile (User {female_profile['User ID']}): Age {female_profile['Age']}, Interests {female_profile['Interests']}\")\n",
    "    print(f\"Match Score: {match_score}\")\n",
    "    print()"
   ]
  }
 ],
 "metadata": {
  "kernelspec": {
   "display_name": "Python 3.11.4 64-bit",
   "language": "python",
   "name": "python3"
  },
  "language_info": {
   "codemirror_mode": {
    "name": "ipython",
    "version": 3
   },
   "file_extension": ".py",
   "mimetype": "text/x-python",
   "name": "python",
   "nbconvert_exporter": "python",
   "pygments_lexer": "ipython3",
   "version": "3.11.4"
  },
  "orig_nbformat": 4,
  "vscode": {
   "interpreter": {
    "hash": "5238573367df39f7286bb46f9ff5f08f63a01a80960060ce41e3c79b190280fa"
   }
  }
 },
 "nbformat": 4,
 "nbformat_minor": 2
}
